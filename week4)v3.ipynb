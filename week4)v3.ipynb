{
  "nbformat": 4,
  "nbformat_minor": 0,
  "metadata": {
    "colab": {
      "name": "week4)v3.ipynb",
      "provenance": []
    },
    "kernelspec": {
      "name": "python3",
      "display_name": "Python 3"
    }
  },
  "cells": [
    {
      "cell_type": "code",
      "metadata": {
        "id": "lbJyfw8XI6cs",
        "colab_type": "code",
        "colab": {
          "base_uri": "https://localhost:8080/",
          "height": 449
        },
        "outputId": "66ae0258-5078-4f46-e676-ce3c20d8fc8e"
      },
      "source": [
        "import tensorflow as tf\n",
        "import numpy as np\n",
        "import matplotlib.pyplot as plt\n",
        "import random\n",
        "X = [0.3, -0.78, 1.26, 0.03, 1.11, 0.24, -0.24, -0.47, -0.77, -0.37, -0.85, -0.41, -0.27, 0.02, -0.76, 2.66]\n",
        "Y = [12.27, 14.44, 11.87, 18.75, 17.52, 16.37, 19.78, 19.51, 12.65, 14.74, 10.72, 21.94, 12.83, 15.51, 17.14, 14.42]\n",
        "\n",
        "# a와 b를 랜덤한 값으로 초기화합니다.\n",
        "a = tf.Variable(random.random())\n",
        "b = tf.Variable(random.random())\n",
        "\n",
        "# 잔차의 제곱의 평균을 반환하는 함수입니다. \n",
        "\n",
        "def compute_loss(): \n",
        "  y_pred = a * X + b\n",
        "  loss = tf.reduce_mean((Y - y_pred) ** 2)\n",
        "  return loss\n",
        "\n",
        "optimizer = tf.optimizers.SGD(lr=0.07)\n",
        "\n",
        "for i in range(1000): \n",
        "  # 잔차의 제곱의 평균을 최소화(minimize) 합니다. \n",
        "  optimizer.minimize(compute_loss, var_list=[a,b])\n",
        "\n",
        "  if i % 100 == 99:\n",
        "    print(i, 'a:', a.numpy(), 'b:', b.numpy(), 'loss:', compute_loss().numpy())\n",
        "\n",
        "line_x = np.arange(min(X), max(X), 0.01)\n",
        "line_y = a * line_x + b\n",
        "\n",
        "# 그래프를 그립니다. \n",
        "plt.plot(line_x, line_y, 'r-')\n",
        "plt.plot(X, Y, 'bo')\n",
        "plt.xlabel('Population Growth Rate (%)')\n",
        "plt.ylabel('Elderly Growth Rate (%)')\n",
        "plt.show()"
      ],
      "execution_count": null,
      "outputs": [
        {
          "output_type": "stream",
          "text": [
            "99 a: -0.35580963 b: 15.669309 loss: 9.780804\n",
            "199 a: -0.35583368 b: 15.669315 loss: 9.780804\n",
            "299 a: -0.35583368 b: 15.669315 loss: 9.780804\n",
            "399 a: -0.35583368 b: 15.669315 loss: 9.780804\n",
            "499 a: -0.35583368 b: 15.669315 loss: 9.780804\n",
            "599 a: -0.35583368 b: 15.669315 loss: 9.780804\n",
            "699 a: -0.35583368 b: 15.669315 loss: 9.780804\n",
            "799 a: -0.35583368 b: 15.669315 loss: 9.780804\n",
            "899 a: -0.35583368 b: 15.669315 loss: 9.780804\n",
            "999 a: -0.35583368 b: 15.669315 loss: 9.780804\n"
          ],
          "name": "stdout"
        },
        {
          "output_type": "display_data",
          "data": {
            "image/png": "[encoded data removed]",
            "text/plain": [
              "<Figure size 432x288 with 1 Axes>"
            ]
          },
          "metadata": {
            "tags": [],
            "needs_background": "light"
          }
        }
      ]
    },
    {
      "cell_type": "code",
      "metadata": {
        "id": "cdLa78R-I7Np",
        "colab_type": "code",
        "colab": {}
      },
      "source": [
        "import tensorflow as tf\n",
        "import numpy as np\n",
        "from tensorflow import keras\n",
        "\n",
        "model = tf.keras.Sequential([keras.layers.Dense(units=1, input_shape=[1])])\n",
        "sgd = tf.keras.optimizers.SGD(lr=0.07, decay=1e-6, momentum=0.9, nesterov=True)\n",
        "model.compile(optimizer=sgd, loss='mean_squared_error')\n",
        "\n",
        "model.fit(X, Y, epochs= 1000, verbose=4)"
      ],
      "execution_count": null,
      "outputs": []
    },
    {
      "cell_type": "code",
      "metadata": {
        "id": "FaOJH5C5JbnE",
        "colab_type": "code",
        "colab": {
          "base_uri": "https://localhost:8080/",
          "height": 51
        },
        "outputId": "b70d2de5-6bd1-4320-8ba9-b42acfca928e"
      },
      "source": [
        "model.trainable_variables"
      ],
      "execution_count": null,
      "outputs": [
        {
          "output_type": "execute_result",
          "data": {
            "text/plain": [
              "[<tf.Variable 'dense_6/kernel:0' shape=(1, 1) dtype=float32, numpy=array([[-0.35583398]], dtype=float32)>,\n",
              " <tf.Variable 'dense_6/bias:0' shape=(1,) dtype=float32, numpy=array([15.669318], dtype=float32)>]"
            ]
          },
          "metadata": {
            "tags": []
          },
          "execution_count": 25
        }
      ]
    },
    {
      "cell_type": "code",
      "metadata": {
        "id": "idHMF4zqPQQ9",
        "colab_type": "code",
        "colab": {}
      },
      "source": [
        "a = -0.35583186\n",
        "b = 15.669294"
      ],
      "execution_count": null,
      "outputs": []
    },
    {
      "cell_type": "code",
      "metadata": {
        "id": "71-m9G1CJmQO",
        "colab_type": "code",
        "colab": {}
      },
      "source": [
        "line_x = np.arange(min(X), max(X), 0.01)\n",
        "line_y = a * line_x + b"
      ],
      "execution_count": null,
      "outputs": []
    },
    {
      "cell_type": "code",
      "metadata": {
        "id": "dkgX02cnPdKq",
        "colab_type": "code",
        "colab": {
          "base_uri": "https://localhost:8080/",
          "height": 279
        },
        "outputId": "9b5a30f6-bd46-4f0d-85ad-d46094337afa"
      },
      "source": [
        "# 그래프를 그립니다. \n",
        "plt.plot(line_x, line_y, 'r-')\n",
        "plt.plot(X, Y, 'bo')\n",
        "plt.xlabel('Population Growth Rate (%)')\n",
        "plt.ylabel('Elderly Growth Rate (%)')\n",
        "plt.show()"
      ],
      "execution_count": null,
      "outputs": [
        {
          "output_type": "display_data",
          "data": {
            "image/png": "[encoded data removed]",
            "text/plain": [
              "<Figure size 432x288 with 1 Axes>"
            ]
          },
          "metadata": {
            "tags": [],
            "needs_background": "light"
          }
        }
      ]
    },
    {
      "cell_type": "code",
      "metadata": {
        "id": "DD-ra2lFPfEq",
        "colab_type": "code",
        "colab": {}
      },
      "source": [
        ""
      ],
      "execution_count": null,
      "outputs": []
    }
  ]
}